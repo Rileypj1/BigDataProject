{
 "cells": [
  {
   "cell_type": "markdown",
   "metadata": {},
   "source": [
    "# Get GDELT Schema"
   ]
  },
  {
   "cell_type": "code",
   "execution_count": 107,
   "metadata": {},
   "outputs": [],
   "source": [
    "import urllib.request  # lib that handles URLs\n",
    "#import requests\n",
    "import io\n",
    "import pandas as pd\n",
    "pd.options.display.max_rows=250\n",
    "import numpy as np\n",
    "\n",
    "target_url=\"https://raw.githubusercontent.com/linwoodc3/gdelt2HeaderRows/master/schema_csvs/GDELT_2.0_Events_Column_Labels_Header_Row_Sep2016.csv\"\n",
    "data = urllib.request.urlopen(target_url).read().decode('utf8')\n",
    "formats = pd.read_csv(io.StringIO(data))\n",
    "colnames_events = list(formats[\"tableId\"])\n",
    "\n",
    "target_url=\"https://raw.githubusercontent.com/linwoodc3/gdelt2HeaderRows/master/schema_csvs/GDELT_2.0_eventMentions_Column_Labels_Header_Row_Sep2016.tsv\"\n",
    "data = urllib.request.urlopen(target_url).read().decode('utf8')\n",
    "formats = pd.read_csv(io.StringIO(data),sep=\"\\t\")\n",
    "colnames_mentions = list(formats.loc[:15,\"0\"])\n",
    "\n",
    "target_url=\"https://raw.githubusercontent.com/linwoodc3/gdelt2HeaderRows/master/schema_csvs/GDELT_2.0_gdeltKnowledgeGraph_Column_Labels_Header_Row_Sep2016.tsv\"\n",
    "data = urllib.request.urlopen(target_url).read().decode('utf8')\n",
    "formats = pd.read_csv(io.StringIO(data),sep=\"\\t\")\n",
    "colnames_gkg = list(formats[\"tableId\"])"
   ]
  },
  {
   "cell_type": "markdown",
   "metadata": {},
   "source": [
    "# Dataset Imports"
   ]
  },
  {
   "cell_type": "code",
   "execution_count": 3,
   "metadata": {},
   "outputs": [],
   "source": [
    "import findspark\n",
    "findspark.init()\n",
    "\n",
    "from pyspark.sql import SparkSession\n",
    "spark = SparkSession.builder \\\n",
    "     .appName(\"Test\") \\\n",
    "     .getOrCreate()"
   ]
  },
  {
   "cell_type": "code",
   "execution_count": 4,
   "metadata": {},
   "outputs": [
    {
     "data": {
      "text/plain": [
       "DataFrame[GLOBALEVENTID: int, SQLDATE: int, MonthYear: int, Year: int, FractionDate: double, Actor1Code: string, Actor1Name: string, Actor1CountryCode: string, Actor1KnownGroupCode: string, Actor1EthnicCode: string, Actor1Religion1Code: string, Actor1Religion2Code: string, Actor1Type1Code: string, Actor1Type2Code: string, Actor1Type3Code: string, Actor2Code: string, Actor2Name: string, Actor2CountryCode: string, Actor2KnownGroupCode: string, Actor2EthnicCode: string, Actor2Religion1Code: string, Actor2Religion2Code: string, Actor2Type1Code: string, Actor2Type2Code: string, Actor2Type3Code: string, IsRootEvent: int, EventCode: int, EventBaseCode: int, EventRootCode: int, QuadClass: int, GoldsteinScale: double, NumMentions: int, NumSources: int, NumArticles: int, AvgTone: double, Actor1Geo_Type: int, Actor1Geo_FullName: string, Actor1Geo_CountryCode: string, Actor1Geo_ADM1Code: string, Actor1Geo_ADM2Code: string, Actor1Geo_Lat: double, Actor1Geo_Long: double, Actor1Geo_FeatureID: string, Actor2Geo_Type: int, Actor2Geo_FullName: string, Actor2Geo_CountryCode: string, Actor2Geo_ADM1Code: string, Actor2Geo_ADM2Code: string, Actor2Geo_Lat: double, Actor2Geo_Long: double, Actor2Geo_FeatureID: string, ActionGeo_Type: int, ActionGeo_FullName: string, ActionGeo_CountryCode: string, ActionGeo_ADM1Code: string, ActionGeo_ADM2Code: string, ActionGeo_Lat: double, ActionGeo_Long: double, ActionGeo_FeatureID: string, DATEADDED: bigint, SOURCEURL: string]"
      ]
     },
     "execution_count": 4,
     "metadata": {},
     "output_type": "execute_result"
    }
   ],
   "source": [
    "df_events = spark.read.format(\"csv\") \\\n",
    "    .option(\"header\", \"false\") \\\n",
    "    .option(\"delimiter\",\"\\t\") \\\n",
    "    .option(\"inferSchema\", \"true\") \\\n",
    "    .load(\"s3://gdelt-open-data/v2/events/20180101*.export.csv\")\n",
    "df_events = df_events.toDF(*colnames_events)\n",
    "df_events.cache()"
   ]
  },
  {
   "cell_type": "code",
   "execution_count": 9,
   "metadata": {},
   "outputs": [
    {
     "data": {
      "text/plain": [
       "DataFrame[GLOBALEVENTID: int, EventTimeDate: bigint, MentionTimeDate: bigint, MentionType: int, MentionSourceName: string, MentionIdentifier: string, SentenceID: int, Actor1CharOffset: int, Actor2CharOffset: int, ActionCharOffset: int, InRawText: int, Confidence: int, MentionDocLen: int, MentionDocTone: double, MentionDocTranslationInfo: string, Extras: string]"
      ]
     },
     "execution_count": 9,
     "metadata": {},
     "output_type": "execute_result"
    }
   ],
   "source": [
    "df_mentions = spark.read.format(\"csv\") \\\n",
    "    .option(\"header\", \"false\") \\\n",
    "    .option(\"delimiter\",\"\\t\") \\\n",
    "    .option(\"inferSchema\", \"true\") \\\n",
    "    .load(\"s3://gdelt-open-data/v2/mentions/20180101*.mentions.csv\")\n",
    "df_mentions = df_mentions.toDF(*colnames_mentions)\n",
    "df_mentions.cache()"
   ]
  },
  {
   "cell_type": "code",
   "execution_count": 218,
   "metadata": {},
   "outputs": [
    {
     "name": "stdout",
     "output_type": "stream",
     "text": [
      "0:04:50.966263\n"
     ]
    }
   ],
   "source": [
    "from datetime import datetime\n",
    "start = datetime.now()\n",
    "\n",
    "df_gkg = spark.read.format(\"csv\") \\\n",
    "    .option(\"header\", \"false\") \\\n",
    "    .option(\"delimiter\",\"\\t\") \\\n",
    "    .option(\"inferSchema\", \"true\") \\\n",
    "    .load(path=['s3://gdelt-open-data/v2/gkg/20171031*.gkg.csv',\n",
    "                's3://gdelt-open-data/v2/gkg/20171101*.gkg.csv',\n",
    "                's3://gdelt-open-data/v2/gkg/20180122*.gkg.csv',\n",
    "                's3://gdelt-open-data/v2/gkg/20180123*.gkg.csv',\n",
    "                's3://gdelt-open-data/v2/gkg/20180205*.gkg.csv',\n",
    "                's3://gdelt-open-data/v2/gkg/20180206*.gkg.csv',\n",
    "                's3://gdelt-open-data/v2/gkg/20180417*.gkg.csv',\n",
    "                's3://gdelt-open-data/v2/gkg/20180418*.gkg.csv',\n",
    "                's3://gdelt-open-data/v2/gkg/20180514*.gkg.csv',\n",
    "                's3://gdelt-open-data/v2/gkg/20180515*.gkg.csv',\n",
    "                's3://gdelt-open-data/v2/gkg/20180518*.gkg.csv',\n",
    "                's3://gdelt-open-data/v2/gkg/20180519*.gkg.csv',\n",
    "                's3://gdelt-open-data/v2/gkg/20180814*.gkg.csv',\n",
    "                's3://gdelt-open-data/v2/gkg/20180815*.gkg.csv'\n",
    "               ])\n",
    "df_gkg = df_gkg.toDF(*colnames_knowledgegraph)\n",
    "df_gkg.cache()\n",
    "\n",
    "print(datetime.now()-start)"
   ]
  },
  {
   "cell_type": "code",
   "execution_count": 219,
   "metadata": {
    "scrolled": true
   },
   "outputs": [
    {
     "name": "stdout",
     "output_type": "stream",
     "text": [
      "3590283\n",
      "0:02:08.390906\n"
     ]
    }
   ],
   "source": [
    "start = datetime.now()\n",
    "\n",
    "# print(df_events.count())\n",
    "# print(df_mentions.count())\n",
    "\n",
    "print(df_gkg.count())\n",
    "\n",
    "#print(df_events.printSchema())\n",
    "\n",
    "print(datetime.now()-start)"
   ]
  },
  {
   "cell_type": "markdown",
   "metadata": {},
   "source": [
    "# Basic Queries\n",
    "* https://blog.gdeltproject.org/gdelt-2-0-our-global-world-in-realtime/\n",
    "* https://www.piie.com/system/files/documents/trump-trade-war-timeline.pdf\n",
    "* https://www.bbvaresearch.com/wp-content/uploads/2018/07/Exploring-the-global-trade-and-protectionism-in-real-time-using-Big-Data_.pdf\n",
    "* https://www.bbvaresearch.com/wp-content/uploads/2018/09/Trade_Wars_Asia_Eng_.pdf"
   ]
  },
  {
   "cell_type": "code",
   "execution_count": 224,
   "metadata": {},
   "outputs": [
    {
     "name": "stdout",
     "output_type": "stream",
     "text": [
      "10214\n"
     ]
    }
   ],
   "source": [
    "#test_gkg = df_gkg.where((df_gkg.V2Persons.rlike('Donald Trump')))\n",
    "topic = \"([T|t]rade|[T|t]ariff)\"\n",
    "\n",
    "test_gkg = df_gkg.where(\n",
    "    (\n",
    "        (df_gkg.DocumentIdentifier.rlike(topic)) \n",
    "        | (df_gkg.Quotations.rlike(topic))\n",
    "    )\n",
    "    &\n",
    "    (\n",
    "        (df_gkg.V2Persons.rlike('Donald Trump'))\n",
    "    )\n",
    ")\n",
    "\n",
    "test = test_gkg #.join(df_events, df_events.SOURCEURL == test_gkg.DocumentIdentifier, how=\"left\")\n",
    "\n",
    "from pyspark.sql.functions import regexp_replace\n",
    "test = test.withColumn(\"V2Themes\", regexp_replace(\"V2Themes\",',[0-9]*',\"\"))\n",
    "\n",
    "test.cache()\n",
    "\n",
    "print(test_gkg.count())"
   ]
  },
  {
   "cell_type": "code",
   "execution_count": 225,
   "metadata": {},
   "outputs": [
    {
     "data": {
      "text/plain": [
       "(10214, 27)"
      ]
     },
     "execution_count": 225,
     "metadata": {},
     "output_type": "execute_result"
    }
   ],
   "source": [
    "recs = pd.DataFrame(test.collect())\n",
    "recs.columns = colnames_gkg #+ colnames_events \n",
    "recs.shape\n",
    "#print(np.array(recs.loc[:,][[\"Persons\",\"V2Themes\"]].drop_duplicates()))"
   ]
  },
  {
   "cell_type": "code",
   "execution_count": 226,
   "metadata": {},
   "outputs": [
    {
     "data": {
      "text/plain": [
       "array(['http://english.ahram.org.eg/NewsContent/2/8/299781/World/Region/Muslim-leaders-call-for-international-protection-f.aspx',\n",
       "       'https://www.morningstar.com/news/dow-jones/TDJNDN_201805185914/market-snapshot-stock-market-struggles-for-direction-with-trade-talks-yields-in-the-spotlight.html',\n",
       "       'https://www.bloomberg.com/news/articles/2018-05-19/merkel-says-she-ll-seek-china-as-free-trade-ally-on-beijing-trip',\n",
       "       'https://www.tasnimnews.com/en/news/2018/05/19/1729686/eu-commissioner-in-iran-to-discuss-trade-ties-after-us-jcpoa-pullout',\n",
       "       'https://abcnews.go.com/Business/wireStory/correction-united-states-china-zte-story-55150862'],\n",
       "      dtype=object)"
      ]
     },
     "execution_count": 226,
     "metadata": {},
     "output_type": "execute_result"
    }
   ],
   "source": [
    "np.array(recs.tail(5)[\"DocumentIdentifier\"])"
   ]
  },
  {
   "cell_type": "code",
   "execution_count": 166,
   "metadata": {},
   "outputs": [
    {
     "data": {
      "text/plain": [
       "{'',\n",
       " 'AFFECT',\n",
       " 'ALLIANCE',\n",
       " 'APPOINTMENT',\n",
       " 'ARMEDCONFLICT',\n",
       " 'ARREST',\n",
       " 'AUSTERITY',\n",
       " 'BORDER',\n",
       " 'CEASEFIRE',\n",
       " 'CONSTITUTIONAL',\n",
       " 'CORRUPTION',\n",
       " 'CRISISLEX_C07_SAFETY',\n",
       " 'CRISISLEX_CRISISLEXREC',\n",
       " 'CRISISLEX_T01_CAUTION_ADVICE',\n",
       " 'CRISISLEX_T02_INJURED',\n",
       " 'CRISISLEX_T03_DEAD',\n",
       " 'CRISISLEX_T08_MISSINGFOUNDTRAPPEDPEOPLE',\n",
       " 'CRISISLEX_T11_UPDATESSYMPATHY',\n",
       " 'DEMOCRACY',\n",
       " 'ECON_STOCKMARKET',\n",
       " 'EDUCATION',\n",
       " 'ELECTION',\n",
       " 'EPU_CATS_MIGRATION_FEAR_FEAR',\n",
       " 'EPU_CATS_NATIONAL_SECURITY',\n",
       " 'EPU_CATS_TAXES',\n",
       " 'EPU_ECONOMY_HISTORIC',\n",
       " 'EPU_POLICY_AUTHORITIES',\n",
       " 'EPU_POLICY_GOVERNMENT',\n",
       " 'EPU_POLICY_POLITICAL',\n",
       " 'EPU_POLICY_WHITE_HOUSE',\n",
       " 'FOOD_SECURITY',\n",
       " 'GENERAL_GOVERNMENT',\n",
       " 'GENERAL_HEALTH',\n",
       " 'GENERAL_PUBLIC_OPINION',\n",
       " 'GEN_HOLIDAY',\n",
       " 'HARASSMENT',\n",
       " 'HUMAN_RIGHTS_ABUSES_TORTURING',\n",
       " 'KILL',\n",
       " 'LEADER',\n",
       " 'LEGISLATION',\n",
       " 'LGBT',\n",
       " 'MANMADE_DISASTER_IMPLIED',\n",
       " 'MARITIME',\n",
       " 'MARITIME_INCIDENT',\n",
       " 'MEDIA_MSM',\n",
       " 'MEDIA_SOCIAL',\n",
       " 'MEDICAL',\n",
       " 'MILITARY',\n",
       " 'MIL_MERCENARIES',\n",
       " 'NATURAL_DISASTER_WINTRY',\n",
       " 'NEGOTIATIONS',\n",
       " 'POLITICAL_TURMOIL',\n",
       " 'PROTEST',\n",
       " 'PUBLIC_TRANSPORT',\n",
       " 'RATIFY',\n",
       " 'RECRUITMENT',\n",
       " 'RESIGNATION',\n",
       " 'RURAL',\n",
       " 'SANCTIONS',\n",
       " 'SCANDAL',\n",
       " 'SCIENCE',\n",
       " 'SECURITY_SERVICES',\n",
       " 'SLFID_DICTATORSHIP',\n",
       " 'SOC_POINTSOFINTEREST_SCHOOL',\n",
       " 'TAKE_OFFICE',\n",
       " 'TAX_ECON_PRICE',\n",
       " 'TAX_ETHNICITY_AMERICAN',\n",
       " 'TAX_ETHNICITY_AUSTRALIAN',\n",
       " 'TAX_ETHNICITY_DUTCH',\n",
       " 'TAX_ETHNICITY_ENGLISH',\n",
       " 'TAX_ETHNICITY_EUROPEANS',\n",
       " 'TAX_ETHNICITY_GERMAN',\n",
       " 'TAX_ETHNICITY_GERMANS',\n",
       " 'TAX_ETHNICITY_IRISH',\n",
       " 'TAX_ETHNICITY_PALESTINIAN',\n",
       " 'TAX_ETHNICITY_PALESTINIANS',\n",
       " 'TAX_ETHNICITY_SCOTTISH',\n",
       " 'TAX_ETHNICITY_SPANISH',\n",
       " 'TAX_ETHNICITY_WELSH',\n",
       " 'TAX_FNCACT_ADVERTISERS',\n",
       " 'TAX_FNCACT_ARCHBISHOP',\n",
       " 'TAX_FNCACT_AUTHORITIES',\n",
       " 'TAX_FNCACT_BUREAUCRATS',\n",
       " 'TAX_FNCACT_BUSINESSMAN',\n",
       " 'TAX_FNCACT_CAMPAIGNERS',\n",
       " 'TAX_FNCACT_CANDIDATES',\n",
       " 'TAX_FNCACT_CARTOONIST',\n",
       " 'TAX_FNCACT_CEO',\n",
       " 'TAX_FNCACT_CHAIRMAN',\n",
       " 'TAX_FNCACT_CHIEF',\n",
       " 'TAX_FNCACT_CHIEF_EXECUTIVE',\n",
       " 'TAX_FNCACT_CITIZENS',\n",
       " 'TAX_FNCACT_COMMANDER',\n",
       " 'TAX_FNCACT_DETECTIVE',\n",
       " 'TAX_FNCACT_DIRECTOR',\n",
       " 'TAX_FNCACT_EDITOR',\n",
       " 'TAX_FNCACT_EMPLOYER',\n",
       " 'TAX_FNCACT_EQUESTRIAN',\n",
       " 'TAX_FNCACT_EXECUTIVE',\n",
       " 'TAX_FNCACT_FOOL',\n",
       " 'TAX_FNCACT_GENERALS',\n",
       " 'TAX_FNCACT_HEAD_OF_STATE',\n",
       " 'TAX_FNCACT_JUDGE',\n",
       " 'TAX_FNCACT_LEADER',\n",
       " 'TAX_FNCACT_MAN',\n",
       " 'TAX_FNCACT_MANAGER',\n",
       " 'TAX_FNCACT_MANAGING_DIRECTOR',\n",
       " 'TAX_FNCACT_MANUFACTURER',\n",
       " 'TAX_FNCACT_MAYORS',\n",
       " 'TAX_FNCACT_MERCENARY',\n",
       " 'TAX_FNCACT_MESSENGER',\n",
       " 'TAX_FNCACT_METEOROLOGIST',\n",
       " 'TAX_FNCACT_MIDWIFE',\n",
       " 'TAX_FNCACT_MINISTER',\n",
       " 'TAX_FNCACT_OFFICIAL',\n",
       " 'TAX_FNCACT_OFFICIALS',\n",
       " 'TAX_FNCACT_PEER',\n",
       " 'TAX_FNCACT_PEERS',\n",
       " 'TAX_FNCACT_PILOT',\n",
       " 'TAX_FNCACT_PILOTS',\n",
       " 'TAX_FNCACT_POLICE',\n",
       " 'TAX_FNCACT_POLITICIANS',\n",
       " 'TAX_FNCACT_PRESIDENT',\n",
       " 'TAX_FNCACT_PRESS_SECRETARY',\n",
       " 'TAX_FNCACT_PRIME_MINISTER',\n",
       " 'TAX_FNCACT_RESEARCHER',\n",
       " 'TAX_FNCACT_SECRETARY',\n",
       " 'TAX_FNCACT_SOLDIERS',\n",
       " 'TAX_FNCACT_SPOKESPERSON',\n",
       " 'TAX_FNCACT_SUPERINTENDENT',\n",
       " 'TAX_FNCACT_SUPPORTERS',\n",
       " 'TAX_FNCACT_TOURISTS',\n",
       " 'TAX_FNCACT_UNEMPLOYED',\n",
       " 'TAX_FNCACT_UNIONISTS',\n",
       " 'TAX_FNCACT_VICTIM',\n",
       " 'TAX_FNCACT_VICTIMS',\n",
       " 'TAX_FNCACT_WOMAN',\n",
       " 'TAX_FNCACT_WRITER',\n",
       " 'TAX_FNCACT_YOUNGSTERS',\n",
       " 'TAX_FOODSTAPLES_EGGS',\n",
       " 'TAX_MILITARY_TITLE_COMMANDER',\n",
       " 'TAX_MILITARY_TITLE_SOLDIERS',\n",
       " 'TAX_MILITARY_TITLE_SUPERINTENDENT',\n",
       " 'TAX_POLITICAL_PARTY_PEOPLE_PARTY',\n",
       " 'TAX_POLITICAL_PARTY_SINN_FEIN',\n",
       " 'TAX_RELIGION_CHURCH',\n",
       " 'TAX_RELIGION_CHURCHES',\n",
       " 'TAX_RELIGION_CHURCH_OF_IRELAND',\n",
       " 'TAX_TERROR_GROUP_SINN_FEIN',\n",
       " 'TAX_WEAPONS_ARTILLERY',\n",
       " 'TAX_WORLDFISH_FISH',\n",
       " 'TAX_WORLDFISH_STURGEON',\n",
       " 'TAX_WORLDLANGUAGES_DUTCH',\n",
       " 'TAX_WORLDLANGUAGES_ENGLISH',\n",
       " 'TAX_WORLDLANGUAGES_GERMAN',\n",
       " 'TAX_WORLDLANGUAGES_GERMANS',\n",
       " 'TAX_WORLDLANGUAGES_ICELANDIC',\n",
       " 'TAX_WORLDLANGUAGES_IRISH',\n",
       " 'TAX_WORLDLANGUAGES_RUSSIA',\n",
       " 'TAX_WORLDLANGUAGES_SPANISH',\n",
       " 'TAX_WORLDLANGUAGES_WELSH',\n",
       " 'TAX_WORLDMAMMALS_CATS',\n",
       " 'TAX_WORLDMAMMALS_DOG',\n",
       " 'TAX_WORLDMAMMALS_DOGS',\n",
       " 'TORTURE',\n",
       " 'TOURISM',\n",
       " 'UNEMPLOYMENT',\n",
       " 'UNGP_AFFORDABLE_NUTRITIOUS_FOOD',\n",
       " 'UNGP_CRIME_VIOLENCE',\n",
       " 'UNGP_FORESTS_RIVERS_OCEANS',\n",
       " 'UNGP_JOB_OPPORTUNITIES_EMPLOYMENT',\n",
       " 'UNGP_POLITICAL_FREEDOMS',\n",
       " 'URBAN',\n",
       " 'USPEC_POLICY1',\n",
       " 'USPEC_POLITICS_GENERAL1',\n",
       " 'USPEC_UNCERTAINTY1',\n",
       " 'WB_1014_CRIMINAL_JUSTICE',\n",
       " 'WB_1070_ECONOMIC_GROWTH_POLICY',\n",
       " 'WB_1072_FISCAL_POLICY_AND_GROWTH',\n",
       " 'WB_1074_FISCAL_CONTRACTION',\n",
       " 'WB_1305_HEALTH_SERVICES_DELIVERY',\n",
       " 'WB_133_INFORMATION_AND_COMMUNICATION_TECHNOLOGIES',\n",
       " 'WB_135_TRANSPORT',\n",
       " 'WB_137_WATER',\n",
       " 'WB_1455_MIDWIVES',\n",
       " 'WB_164_MODES_OF_TRANSPORT',\n",
       " 'WB_165_AIR_TRANSPORT',\n",
       " 'WB_1808_TRANSPORT_SAFETY',\n",
       " 'WB_2024_ANTI_CORRUPTION_AUTHORITIES',\n",
       " 'WB_2025_INVESTIGATION',\n",
       " 'WB_2048_COMPENSATION_CAREERS_AND_INCENTIVES',\n",
       " 'WB_2203_HUMAN_RIGHTS',\n",
       " 'WB_2432_FRAGILITY_CONFLICT_AND_VIOLENCE',\n",
       " 'WB_2433_CONFLICT_AND_VIOLENCE',\n",
       " 'WB_2445_NON_STATE_SECURITY_ACTORS',\n",
       " 'WB_2447_MERCENARIES',\n",
       " 'WB_2470_PEACE_OPERATIONS_AND_CONFLICT_MANAGEMENT',\n",
       " 'WB_2471_PEACEKEEPING',\n",
       " 'WB_2473_DIPLOMACY_AND_NEGOTIATIONS',\n",
       " 'WB_2507_HUMAN_RIGHTS_ABUSES_AND_VIOLATIONS',\n",
       " 'WB_2512_TORTURE',\n",
       " 'WB_2670_JOBS',\n",
       " 'WB_2689_JOBS_DIAGNOSTICS',\n",
       " 'WB_2690_CATEGORIES_OF_EMPLOYMENT',\n",
       " 'WB_2704_EMPLOYER',\n",
       " 'WB_470_EDUCATION',\n",
       " 'WB_471_ECONOMIC_GROWTH',\n",
       " 'WB_621_HEALTH_NUTRITION_AND_POPULATION',\n",
       " 'WB_639_REPRODUCTIVE_MATERNAL_AND_CHILD_HEALTH',\n",
       " 'WB_641_REPRODUCTIVE_AND_MATERNAL_HEALTH',\n",
       " 'WB_652_ICT_APPLICATIONS',\n",
       " 'WB_658_ENTERPRISE_APPLICATIONS',\n",
       " 'WB_662_SOCIAL_MEDIA',\n",
       " 'WB_678_DIGITAL_GOVERNMENT',\n",
       " 'WB_694_BROADCAST_AND_MEDIA',\n",
       " 'WB_696_PUBLIC_SECTOR_MANAGEMENT',\n",
       " 'WB_723_PUBLIC_ADMINISTRATION',\n",
       " 'WB_724_HUMAN_RESOURCES_FOR_PUBLIC_SECTOR',\n",
       " 'WB_790_TRANSPORT_AND_SUSTAINABLE_DEVELOPMENT',\n",
       " 'WB_831_GOVERNANCE',\n",
       " 'WB_832_ANTI_CORRUPTION',\n",
       " 'WB_840_JUSTICE',\n",
       " 'WB_843_DISPUTE_RESOLUTION',\n",
       " 'WB_936_ALTERNATIVE_DISPUTE_RESOLUTION',\n",
       " 'WB_939_NEGOTIATION'}"
      ]
     },
     "execution_count": 166,
     "metadata": {},
     "output_type": "execute_result"
    }
   ],
   "source": [
    "recs = pd.DataFrame(test_gkg.select(\"V2Themes\").distinct().collect())\n",
    "set(\";\".join(np.array(recs.head(10)).flatten()).split(\";\"))"
   ]
  },
  {
   "cell_type": "markdown",
   "metadata": {},
   "source": [
    "# Stop Spark Context"
   ]
  },
  {
   "cell_type": "code",
   "execution_count": null,
   "metadata": {},
   "outputs": [],
   "source": [
    "sc.stop()"
   ]
  }
 ],
 "metadata": {
  "kernelspec": {
   "display_name": "Python 3",
   "language": "python",
   "name": "python3"
  },
  "language_info": {
   "codemirror_mode": {
    "name": "ipython",
    "version": 3
   },
   "file_extension": ".py",
   "mimetype": "text/x-python",
   "name": "python",
   "nbconvert_exporter": "python",
   "pygments_lexer": "ipython3",
   "version": "3.6.8"
  }
 },
 "nbformat": 4,
 "nbformat_minor": 2
}
