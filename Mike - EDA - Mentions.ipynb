{
 "cells": [
  {
   "cell_type": "markdown",
   "metadata": {},
   "source": [
    "# Init"
   ]
  },
  {
   "cell_type": "code",
   "execution_count": 1,
   "metadata": {},
   "outputs": [],
   "source": [
    "import findspark\n",
    "findspark.init()\n",
    "\n",
    "from pyspark.sql import SparkSession\n",
    "spark = SparkSession.builder \\\n",
    "     .appName(\"Test\") \\\n",
    "     .getOrCreate()"
   ]
  },
  {
   "cell_type": "code",
   "execution_count": 84,
   "metadata": {},
   "outputs": [],
   "source": [
    "import pandas as pd\n",
    "pd.options.display.max_rows=250\n",
    "import numpy as np\n",
    "from datetime import datetime\n",
    "\n",
    "import matplotlib.pyplot as plt\n",
    "plt.style.use('seaborn')\n",
    "import matplotlib.ticker as ticker\n",
    "from matplotlib.ticker import FormatStrFormatter, FuncFormatter\n",
    "\n",
    "import pyspark.sql.functions as func\n",
    "from pyspark.sql.functions import expr, regexp_replace"
   ]
  },
  {
   "cell_type": "markdown",
   "metadata": {},
   "source": [
    "# Dataset Imports"
   ]
  },
  {
   "cell_type": "code",
   "execution_count": 3,
   "metadata": {},
   "outputs": [
    {
     "name": "stdout",
     "output_type": "stream",
     "text": [
      "329927031\n",
      "root\n",
      " |-- EventDate: string (nullable = true)\n",
      " |-- MentionSource: string (nullable = true)\n",
      " |-- MentionIdentifier: string (nullable = true)\n",
      " |-- MentionDocTone: string (nullable = true)\n",
      " |-- Month: string (nullable = true)\n",
      " |-- Year: string (nullable = true)\n",
      "\n",
      "None\n",
      "0:03:45.480535\n"
     ]
    }
   ],
   "source": [
    "start = datetime.now()\n",
    "\n",
    "df_mentions = spark.read.parquet(\"s3://labadie-gdelt-tradewar/mentions.parquet\")\n",
    "\n",
    "df_mentions.cache()\n",
    "\n",
    "print(df_mentions.count())\n",
    "\n",
    "print(df_mentions.printSchema())\n",
    "\n",
    "print(datetime.now()-start)"
   ]
  },
  {
   "cell_type": "code",
   "execution_count": 4,
   "metadata": {},
   "outputs": [
    {
     "name": "stdout",
     "output_type": "stream",
     "text": [
      "+---------+-----------------+--------------------+-----------------+------+----+\n",
      "|EventDate|    MentionSource|   MentionIdentifier|   MentionDocTone| Month|Year|\n",
      "+---------+-----------------+--------------------+-----------------+------+----+\n",
      "| 20150714|      asiaone.com|newslite./content...|-3.43406593406593|201507|2015|\n",
      "| 20150714|   wmicentral.com|/community_beat/m...| 1.62962962962963|201507|2015|\n",
      "| 20150714|heraldcourier.com|/news/obama-warns...|-2.91666666666667|201507|2015|\n",
      "| 20150714|     wmbfnews.com|/story/29541037/o...|-0.87260034904014|201507|2015|\n",
      "| 20150714| koreatimes.co.kr|/www/news/biz/201...|-1.72786177105832|201507|2015|\n",
      "| 20150714|         wqow.com|/story/29540451/a...|-2.57123002084781|201507|2015|\n",
      "| 20150714|        lep.co.uk|/news/regional/br...|-3.61445783132531|201507|2015|\n",
      "| 20150714|       kfoxtv.com|/news/features/to...|-2.53991291727141|201507|2015|\n",
      "| 20150714|    12newsnow.com|/story/29541921/f...|-2.86532951289398|201507|2015|\n",
      "| 20150714|     dnaindia.com|/mumbai/report-ma...|-6.37065637065637|201507|2015|\n",
      "| 20150714|      wdtimes.com|/news/national/ar...|-2.76243093922652|201507|2015|\n",
      "| 20150714|         ktul.com|/story/29541921/f...|-2.84900284900285|201507|2015|\n",
      "| 20150714|         kdwn.com|/2015/07/14/18-da...|-2.53772290809328|201507|2015|\n",
      "| 20150714|   ifreepress.com|/world/3584-irani...|-3.82059800664452|201507|2015|\n",
      "| 20150714|ithacajournal.com|/story/news/world...|-0.30395136778115|201507|2015|\n",
      "| 20150714|       wzzm13.com|/story/news/world...|-0.30395136778115|201507|2015|\n",
      "| 20150714|journalreview.com|/news/article_83b...|-2.91666666666667|201507|2015|\n",
      "| 20150714|         azpm.org|/p/crawler-storie...|-1.78571428571429|201507|2015|\n",
      "| 20150714|   stockhouse.com|/news/press-relea...| 3.10421286031042|201507|2015|\n",
      "| 20150714|       wishtv.com|/ap/obama-warns-c...|-2.57731958762887|201507|2015|\n",
      "+---------+-----------------+--------------------+-----------------+------+----+\n",
      "only showing top 20 rows\n",
      "\n"
     ]
    }
   ],
   "source": [
    "df_mentions.show()"
   ]
  },
  {
   "cell_type": "markdown",
   "metadata": {},
   "source": [
    "# EDA Across Fields\n",
    "We could show how many countries are represented by the dataset.  Might just be interesting to show the breadth of the data."
   ]
  },
  {
   "cell_type": "markdown",
   "metadata": {},
   "source": [
    "#### Num Sources Total"
   ]
  },
  {
   "cell_type": "code",
   "execution_count": 71,
   "metadata": {},
   "outputs": [
    {
     "name": "stdout",
     "output_type": "stream",
     "text": [
      "Num Unique Publishers 110239\n"
     ]
    }
   ],
   "source": [
    "print(\"Num Unique Publishers\",df_mentions.select([\"MentionSource\"]).distinct().count())"
   ]
  },
  {
   "cell_type": "code",
   "execution_count": null,
   "metadata": {},
   "outputs": [],
   "source": [
    "print(\"Avg Tone\")\n",
    "print(\"Min Tone\")\n",
    "print(\"Max Tone\")"
   ]
  },
  {
   "cell_type": "markdown",
   "metadata": {},
   "source": [
    "#### Publishers That Published at Least Once a Month and Mentioned Trump"
   ]
  },
  {
   "cell_type": "code",
   "execution_count": 72,
   "metadata": {},
   "outputs": [
    {
     "data": {
      "text/plain": [
       "DataFrame[EventDate: string, MentionSource: string, MentionIdentifier: string, MentionDocTone: string, Month: string, Year: string]"
      ]
     },
     "execution_count": 72,
     "metadata": {},
     "output_type": "execute_result"
    }
   ],
   "source": [
    "# find sources that published at least once a month\n",
    "mentions_by_month=df_mentions.groupby([\"MentionSource\",\"Month\"]).count()\n",
    "max_months = mentions_by_month.groupby(\"MentionSource\").count().agg(func.max(\"count\").alias(\"max_count\")).take(1)[0].max_count\n",
    "sources_all_months=mentions_by_month.groupby(\"MentionSource\").count().where(func.col(\"count\")==max_months).selectExpr(\"MentionSource as x\")\n",
    "\n",
    "# find sources who had a URL that included trump at least once\n",
    "mentioned_trump=df_mentions.where(df_mentions.MentionIdentifier.rlike('tariff')).selectExpr(\"MentionSource as y\").distinct()\n",
    "\n",
    "# build a filtered dataset\n",
    "filtered_mentions=df_mentions.join(sources_all_months, df_mentions.MentionSource==sources_all_months.x). \\\n",
    "    join(mentioned_trump,df_mentions.MentionSource==mentioned_trump.y).drop(\"x\",\"y\")\n",
    "\n",
    "filtered_mentions.cache()"
   ]
  },
  {
   "cell_type": "code",
   "execution_count": 75,
   "metadata": {},
   "outputs": [
    {
     "name": "stdout",
     "output_type": "stream",
     "text": [
      "Num Publishers At Least Once a Month 3796\n",
      "    Num Articles 226357831\n"
     ]
    }
   ],
   "source": [
    "print(\"Num Publishers At Least Once a Month\", sources_all_months.count())\n",
    "print(\"    Num Articles\",filtered_mentions.count())"
   ]
  },
  {
   "cell_type": "markdown",
   "metadata": {},
   "source": [
    "# Basic Plots"
   ]
  },
  {
   "cell_type": "markdown",
   "metadata": {},
   "source": [
    "### Plotting functions"
   ]
  },
  {
   "cell_type": "code",
   "execution_count": null,
   "metadata": {},
   "outputs": [],
   "source": [
    "def plot_line_over_time(x,y_dict,y_axis_label,filename):\n",
    "    fig, ax = plt.subplots(figsize=(10,5))\n",
    "\n",
    "    data_to_plot = list(y_dict.items())\n",
    "    \n",
    "    # first set of data\n",
    "    ax.plot(x,data_to_plot[0][1],label=data_to_plot[0][0])\n",
    "    ax.set_xlabel(\"Week of Year\")\n",
    "    ax.tick_params(axis=\"x\", rotation=30)\n",
    "    ax.xaxis.set_major_locator(ticker.MultipleLocator(4))\n",
    "    ax.set_ylabel(y_axis_label)\n",
    "    ax.yaxis.set_major_formatter(FuncFormatter(lambda x, p: format(int(x), ',')))\n",
    "\n",
    "    plt.legend()\n",
    "    plt.tight_layout()\n",
    "    plt.savefig(\"Plots/\"+filename+\".png\", \n",
    "                facecolor=fig.get_facecolor(), \n",
    "                edgecolor='none')\n",
    "    \n",
    "    \n",
    "def plot_line_over_time_two_y_axis(x,y_dict,filename):\n",
    "    fig, ax = plt.subplots(figsize=(10,5))\n",
    "\n",
    "    data_to_plot = list(y_dict.items())\n",
    "    \n",
    "    # first set of data\n",
    "    ax.plot(x,data_to_plot[0][1],label=data_to_plot[0][0])\n",
    "    ax.set_xlabel(\"Week of Year\")\n",
    "    ax.tick_params(axis=\"x\", rotation=30)\n",
    "    ax.xaxis.set_major_locator(ticker.MultipleLocator(4))\n",
    "    ax.set_ylabel(data_to_plot[0][0])\n",
    "    ax.yaxis.set_major_formatter(FuncFormatter(lambda x, p: format(int(x), ',')))\n",
    "    \n",
    "    if len(data_to_plot) > 1:\n",
    "        for i in range(1,len(data_to_plot)):\n",
    "            ax2 = ax.twinx()  # instantiate a second axes that shares the same x-axis\n",
    "            ax2.xaxis.set_major_locator(ticker.MultipleLocator(4))\n",
    "            ax2.set_ylabel(data_to_plot[i][0])\n",
    "            ax2.plot(x,data_to_plot[i][1],data_to_plot[i][1])      \n",
    "\n",
    "    plt.tight_layout()\n",
    "    plt.savefig(\"Plots/\"+filename+\".png\", \n",
    "                facecolor=fig.get_facecolor(), \n",
    "                edgecolor='none')\n",
    "    \n",
    "    \n",
    "def counts_by_week_year(relevant_events):\n",
    "    # group by day\n",
    "    all_events_by_day = pd.DataFrame(relevant_events.groupby(\"EventDate\").count().collect())\n",
    "    all_events_by_day.columns = [\"Date\",\"Count\"]\n",
    "    all_events_by_day[\"Date\"] = pd.to_datetime(all_events_by_day[\"Date\"].astype(str), format='%Y%m%d', errors=\"coerce\")\n",
    "    all_events_by_day = all_events_by_day[all_events_by_day[\"Date\"] >= datetime.strptime(\"2015-04-01\",\"%Y-%m-%d\")]\n",
    "    all_events_by_day = all_events_by_day.sort_values(by=\"Date\")\n",
    "\n",
    "    # get week number of year\n",
    "    all_events_by_day[\"Week\"] = ((all_events_by_day[\"Date\"].dt.dayofyear-1)//7+1).apply(lambda x: '{0:0>2}'.format(min(x,52)))\n",
    "    all_events_by_day[\"Year\"] = all_events_by_day[\"Date\"].dt.year.astype(str)\n",
    "    all_events_by_day[\"YearWeek\"] = all_events_by_day[\"Year\"] + \"-\" + all_events_by_day[\"Week\"]\n",
    "    all_events_by_day = all_events_by_day.groupby(by=\"YearWeek\")[\"Count\"].sum().reset_index()\n",
    "\n",
    "    return all_events_by_day\n",
    "\n",
    "\n",
    "def avg_tone_by_week_year(relevant_events):\n",
    "    all_events_by_day = pd.DataFrame(relevant_events.groupby(\"EventDate\").agg(func.mean(\"MentionDocTone\").alias(\"MentionDocTone\")).collect())\n",
    "    all_events_by_day.columns = [\"Date\",\"MentionDocTone\"]\n",
    "    all_events_by_day[\"Date\"] = pd.to_datetime(all_events_by_day[\"Date\"].astype(str), format='%Y%m%d', errors=\"coerce\")\n",
    "    all_events_by_day = all_events_by_day[all_events_by_day[\"Date\"] >= datetime.strptime(\"2015-04-01\",\"%Y-%m-%d\")]\n",
    "    all_events_by_day = all_events_by_day.sort_values(by=\"Date\")\n",
    "\n",
    "    # get week number of year\n",
    "    all_events_by_day[\"Week\"] = ((all_events_by_day[\"Date\"].dt.dayofyear-1)//7+1).apply(lambda x: '{0:0>2}'.format(min(x,52)))\n",
    "    all_events_by_day[\"Year\"] = all_events_by_day[\"Date\"].dt.year.astype(str)\n",
    "    all_events_by_day[\"YearWeek\"] = all_events_by_day[\"Year\"] + \"-\" + all_events_by_day[\"Week\"]\n",
    "    all_events_by_day = all_events_by_day.groupby(by=\"YearWeek\")[\"MentionDocTone\"].mean().reset_index()\n",
    "\n",
    "    return all_events_by_day\n"
   ]
  },
  {
   "cell_type": "markdown",
   "metadata": {},
   "source": [
    "### Plot Count of All Events by Day"
   ]
  },
  {
   "cell_type": "code",
   "execution_count": null,
   "metadata": {},
   "outputs": [],
   "source": [
    "start = datetime.now()\n",
    "\n",
    "# group by week_year\n",
    "data = counts_by_week_year(df_mentions)\n",
    "\n",
    "# group by week and plot\n",
    "x=data[\"YearWeek\"]\n",
    "y_dict = {}\n",
    "y_dict[\"All Event Count\"] = data[\"Count\"]\n",
    "plot_line_over_time(x,y_dict,\"Count\",\"All_Events_Counts\")\n",
    "\n",
    "print(datetime.now()-start)"
   ]
  },
  {
   "cell_type": "markdown",
   "metadata": {},
   "source": [
    "### Plot trump mentions"
   ]
  },
  {
   "cell_type": "code",
   "execution_count": null,
   "metadata": {},
   "outputs": [],
   "source": [
    "# get relevant events\n",
    "relevant_events = df_mentions.where(df_mentions.MentionIdentifier.rlike('trump'))\n",
    "\n",
    "# group by week_year\n",
    "counts = counts_by_week_year(relevant_events)\n",
    "tone = avg_tone_by_week_year(relevant_events)\n",
    "\n",
    "# plot\n",
    "x=counts[\"YearWeek\"]\n",
    "y_dict = {}\n",
    "y_dict[\"Count\"] = counts[\"Count\"]\n",
    "y_dict[\"Tone\"]=tone[\"MentionDocTone\"]\n",
    "\n",
    "plot_line_over_time_two_y_axis(x,y_dict,\"Trump_Events_Counts\")"
   ]
  },
  {
   "cell_type": "markdown",
   "metadata": {},
   "source": [
    "### Plot tariff mentions"
   ]
  },
  {
   "cell_type": "code",
   "execution_count": null,
   "metadata": {},
   "outputs": [],
   "source": [
    "# get relevant events\n",
    "relevant_events = df_mentions.where(df_mentions.MentionIdentifier.rlike('tariff')\n",
    "                                  | df_mentions.MentionIdentifier.rlike('trade*war'))\n",
    "\n",
    "# group by week_year\n",
    "data = counts_by_week_year(relevant_events)\n",
    "\n",
    "# group by week and plot\n",
    "x=data[\"YearWeek\"]\n",
    "y_dict = {}\n",
    "y_dict[\"Count\"] = data[\"Count\"]\n",
    "plot_line_over_time(x,y_dict,\"Count\",\"Tariff_Events_Counts\")"
   ]
  }
 ],
 "metadata": {
  "kernelspec": {
   "display_name": "Python 3",
   "language": "python",
   "name": "python3"
  },
  "language_info": {
   "codemirror_mode": {
    "name": "ipython",
    "version": 3
   },
   "file_extension": ".py",
   "mimetype": "text/x-python",
   "name": "python",
   "nbconvert_exporter": "python",
   "pygments_lexer": "ipython3",
   "version": "3.6.8"
  }
 },
 "nbformat": 4,
 "nbformat_minor": 2
}
