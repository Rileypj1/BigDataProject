{
 "cells": [
  {
   "cell_type": "markdown",
   "metadata": {},
   "source": [
    "# Init"
   ]
  },
  {
   "cell_type": "code",
   "execution_count": 1,
   "metadata": {},
   "outputs": [],
   "source": [
    "import findspark\n",
    "findspark.init()\n",
    "\n",
    "from pyspark.sql import SparkSession\n",
    "spark = SparkSession.builder \\\n",
    "     .appName(\"Test\") \\\n",
    "     .getOrCreate()\n",
    "\n",
    "import pyspark.sql.functions as func"
   ]
  },
  {
   "cell_type": "markdown",
   "metadata": {},
   "source": [
    "# Import Mentions, Clean, and Write to Parquet"
   ]
  },
  {
   "cell_type": "code",
   "execution_count": 2,
   "metadata": {},
   "outputs": [
    {
     "name": "stdout",
     "output_type": "stream",
     "text": [
      "319104809\n",
      "root\n",
      " |-- EventDate: string (nullable = true)\n",
      " |-- MentionSource: string (nullable = true)\n",
      " |-- MentionIdentifier: string (nullable = true)\n",
      " |-- MentionDocTone: string (nullable = true)\n",
      " |-- Month: string (nullable = true)\n",
      " |-- Year: string (nullable = true)\n",
      "\n",
      "None\n",
      "1:24:16.319871\n"
     ]
    }
   ],
   "source": [
    "from datetime import datetime\n",
    "start = datetime.now()\n",
    "\n",
    "df_mentions = spark.read.format(\"csv\") \\\n",
    "    .option(\"header\", \"false\") \\\n",
    "    .option(\"delimiter\",\"\\t\") \\\n",
    "    .option(\"inferSchema\", \"true\") \\\n",
    "    .load(path=[\"s3://gdelt-open-data/v2/mentions/*.mentions.csv\"]) \\\n",
    "    .select([\"_c1\",\"_c4\",\"_c5\",\"_c13\"]).distinct()\n",
    "df_mentions = df_mentions.toDF(*[\"EventDate\",\"MentionSource\",\"MentionIdentifier\",\"MentionDocTone\"])\n",
    "df_mentions.cache()\n",
    "\n",
    "df_mentions = df_mentions.na.drop(how=\"any\")\n",
    "\n",
    "from pyspark.sql.functions import expr, regexp_replace\n",
    "df_mentions = df_mentions.withColumn(\"MentionIdentifier\", regexp_replace(\"MentionIdentifier\",'http://',\"\"))\n",
    "df_mentions = df_mentions.withColumn(\"MentionIdentifier\", regexp_replace(\"MentionIdentifier\",'https://',\"\"))\n",
    "df_mentions = df_mentions.withColumn(\"MentionIdentifier\", regexp_replace(\"MentionIdentifier\",'www\\.',\"\"))\n",
    "df_mentions = df_mentions.withColumn(\"MentionIdentifier\", expr(\"replace(MentionIdentifier,MentionSource,'')\"))\n",
    "df_mentions = df_mentions.withColumn(\"EventDate\",expr(\"left(EventDate,8)\"))\n",
    "\n",
    "from pyspark.sql.functions import expr, regexp_replace\n",
    "df_mentions = df_mentions.withColumn(\"Month\",expr(\"left(EventDate,6)\"))\n",
    "df_mentions = df_mentions.withColumn(\"Year\",expr(\"left(EventDate,4)\"))\n",
    "\n",
    "df_mentions = df_mentions.where((df_mentions.Month>=201503)&(df_mentions.Month<201903))\n",
    "\n",
    "print(df_mentions.count())\n",
    "print(df_mentions.printSchema())\n",
    "\n",
    "df_mentions.write.parquet(\"s3://labadie-gdelt-tradewar/mentions.parquet\", mode=\"overwrite\")\n",
    "\n",
    "print(datetime.now()-start)"
   ]
  }
 ],
 "metadata": {
  "kernelspec": {
   "display_name": "Python 3",
   "language": "python",
   "name": "python3"
  },
  "language_info": {
   "codemirror_mode": {
    "name": "ipython",
    "version": 3
   },
   "file_extension": ".py",
   "mimetype": "text/x-python",
   "name": "python",
   "nbconvert_exporter": "python",
   "pygments_lexer": "ipython3",
   "version": "3.6.8"
  }
 },
 "nbformat": 4,
 "nbformat_minor": 2
}
