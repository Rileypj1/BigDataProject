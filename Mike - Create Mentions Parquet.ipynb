{
 "cells": [
  {
   "cell_type": "markdown",
   "metadata": {},
   "source": [
    "# Init"
   ]
  },
  {
   "cell_type": "code",
   "execution_count": 2,
   "metadata": {},
   "outputs": [],
   "source": [
    "import findspark\n",
    "findspark.init()\n",
    "\n",
    "from pyspark.sql import SparkSession\n",
    "spark = SparkSession.builder \\\n",
    "     .appName(\"Test\") \\\n",
    "     .getOrCreate()\n",
    "\n",
    "import pyspark.sql.functions as func"
   ]
  },
  {
   "cell_type": "markdown",
   "metadata": {},
   "source": [
    "# Dataset Imports"
   ]
  },
  {
   "cell_type": "code",
   "execution_count": 4,
   "metadata": {},
   "outputs": [
    {
     "name": "stdout",
     "output_type": "stream",
     "text": [
      "329962831\n",
      "root\n",
      " |-- EventDate: string (nullable = true)\n",
      " |-- MentionSource: string (nullable = true)\n",
      " |-- MentionIdentifier: string (nullable = true)\n",
      " |-- MentionDocTone: string (nullable = true)\n",
      "\n",
      "None\n",
      "0:20:44.537536\n"
     ]
    }
   ],
   "source": [
    "from datetime import datetime\n",
    "start = datetime.now()\n",
    "\n",
    "df_mentions = spark.read.format(\"csv\") \\\n",
    "    .option(\"header\", \"false\") \\\n",
    "    .option(\"delimiter\",\"\\t\") \\\n",
    "    .option(\"inferSchema\", \"true\") \\\n",
    "    .load(path=[\"s3://gdelt-open-data/v2/mentions/*.mentions.csv\"]) \\\n",
    "    .select([\"_c1\",\"_c4\",\"_c5\",\"_c13\"]).distinct()\n",
    "df_mentions = df_mentions.toDF(*[\"EventDate\",\"MentionSource\",\"MentionIdentifier\",\"MentionDocTone\"])\n",
    "df_mentions.cache()\n",
    "\n",
    "print(df_mentions.count())\n",
    "print(df_mentions.printSchema())\n",
    "print(datetime.now()-start)"
   ]
  },
  {
   "cell_type": "markdown",
   "metadata": {},
   "source": [
    "# Write Data to Parquet Format"
   ]
  },
  {
   "cell_type": "code",
   "execution_count": 5,
   "metadata": {},
   "outputs": [],
   "source": [
    "df_mentions.write.parquet(\"s3://labadie-gdelt-tradewar/mentions.parquet\", mode=\"overwrite\")"
   ]
  }
 ],
 "metadata": {
  "kernelspec": {
   "display_name": "Python 3",
   "language": "python",
   "name": "python3"
  },
  "language_info": {
   "codemirror_mode": {
    "name": "ipython",
    "version": 3
   },
   "file_extension": ".py",
   "mimetype": "text/x-python",
   "name": "python",
   "nbconvert_exporter": "python",
   "pygments_lexer": "ipython3",
   "version": "3.6.8"
  }
 },
 "nbformat": 4,
 "nbformat_minor": 2
}
