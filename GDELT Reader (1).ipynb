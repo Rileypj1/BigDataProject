{
 "cells": [
  {
   "cell_type": "markdown",
   "metadata": {},
   "source": [
    "# Disregard This:  Read Files How To\n",
    "## With Spark, you can read files directly from GDELT S3"
   ]
  },
  {
   "cell_type": "markdown",
   "metadata": {},
   "source": [
    "I pulled down a single day's files into an S3 bucket\n",
    "* aws s3 cp s3://gdelt-open-data/v2/events/ s3://labadie.gdelt/ --recursive --exclude \"*\" --include \"20180619??????.export.csv\"\n",
    "* I don't think you can use wildcards with hadoop distcp"
   ]
  },
  {
   "cell_type": "markdown",
   "metadata": {},
   "source": [
    "I then brought those into hdfs\n",
    "  * hadoop distcp s3://labadie.gdelt/ gdelt/"
   ]
  },
  {
   "cell_type": "markdown",
   "metadata": {},
   "source": [
    "# Get GDELT Events Schema"
   ]
  },
  {
   "cell_type": "code",
   "execution_count": 68,
   "metadata": {},
   "outputs": [],
   "source": [
    "import urllib.request  # lib that handles URLs\n",
    "#import requests\n",
    "import io\n",
    "\n",
    "target_url=\"https://raw.githubusercontent.com/linwoodc3/gdelt2HeaderRows/master/schema_csvs/GDELT_2.0_Events_Column_Labels_Header_Row_Sep2016.csv\"\n",
    "data = urllib.request.urlopen(target_url).read().decode('utf8')\n",
    "formats = pd.read_csv(io.StringIO(data))\n",
    "formats[\"dataType\"].replace({\"INTEGER\":\"IntegerType\",\n",
    "                             \"FLOAT\":\"LongType\",\n",
    "                             \"STRING\":\"StringType\"},inplace=True)"
   ]
  },
  {
   "cell_type": "markdown",
   "metadata": {},
   "source": [
    "### Try to build the schema"
   ]
  },
  {
   "cell_type": "code",
   "execution_count": 101,
   "metadata": {},
   "outputs": [],
   "source": [
    "from pyspark.sql.types import LongType, StringType, StructField, StructType, BooleanType, ArrayType, IntegerType\n",
    "\n",
    "gdeltschema = []\n",
    "for row in formats.iterrows():\n",
    "    sf = StructField(row[1][\"tableId\"],\n",
    "                     StringType(),\n",
    "                     #globals()[row[1][\"dataType\"]](),\n",
    "                     True)\n",
    "    gdeltschema.append(sf)\n",
    "    \n",
    "gdeltschema=StructType(gdeltschema)"
   ]
  },
  {
   "cell_type": "markdown",
   "metadata": {},
   "source": [
    "# Spark Stuff"
   ]
  },
  {
   "cell_type": "code",
   "execution_count": 1,
   "metadata": {},
   "outputs": [],
   "source": [
    "import findspark\n",
    "findspark.init()\n",
    "\n",
    "from pyspark import SparkContext\n",
    "sc = SparkContext()\n",
    "\n",
    "from pyspark.sql import SparkSession\n",
    "spark = SparkSession.builder \\\n",
    "     .appName(\"Test\") \\\n",
    "     .getOrCreate()"
   ]
  },
  {
   "cell_type": "code",
   "execution_count": 116,
   "metadata": {},
   "outputs": [
    {
     "data": {
      "text/plain": [
       "DataFrame[GLOBALEVENTID: string, SQLDATE: string, MonthYear: string, Year: string, FractionDate: string, Actor1Code: string, Actor1Name: string, Actor1CountryCode: string, Actor1KnownGroupCode: string, Actor1EthnicCode: string, Actor1Religion1Code: string, Actor1Religion2Code: string, Actor1Type1Code: string, Actor1Type2Code: string, Actor1Type3Code: string, Actor2Code: string, Actor2Name: string, Actor2CountryCode: string, Actor2KnownGroupCode: string, Actor2EthnicCode: string, Actor2Religion1Code: string, Actor2Religion2Code: string, Actor2Type1Code: string, Actor2Type2Code: string, Actor2Type3Code: string, IsRootEvent: string, EventCode: string, EventBaseCode: string, EventRootCode: string, QuadClass: string, GoldsteinScale: string, NumMentions: string, NumSources: string, NumArticles: string, AvgTone: string, Actor1Geo_Type: string, Actor1Geo_FullName: string, Actor1Geo_CountryCode: string, Actor1Geo_ADM1Code: string, Actor1Geo_ADM2Code: string, Actor1Geo_Lat: string, Actor1Geo_Long: string, Actor1Geo_FeatureID: string, Actor2Geo_Type: string, Actor2Geo_FullName: string, Actor2Geo_CountryCode: string, Actor2Geo_ADM1Code: string, Actor2Geo_ADM2Code: string, Actor2Geo_Lat: string, Actor2Geo_Long: string, Actor2Geo_FeatureID: string, ActionGeo_Type: string, ActionGeo_FullName: string, ActionGeo_CountryCode: string, ActionGeo_ADM1Code: string, ActionGeo_ADM2Code: string, ActionGeo_Lat: string, ActionGeo_Long: string, ActionGeo_FeatureID: string, DATEADDED: string, SOURCEURL: string]"
      ]
     },
     "execution_count": 116,
     "metadata": {},
     "output_type": "execute_result"
    }
   ],
   "source": [
    "df = spark.read.format(\"csv\") \\\n",
    "    .option(\"header\", \"false\") \\\n",
    "    .option(\"delimiter\",\"\\t\") \\\n",
    "    .schema(gdeltschema) \\\n",
    "    .load(\"s3://gdelt-open-data/v2/events/20180101*.export.csv\")\n",
    "df.cache()"
   ]
  },
  {
   "cell_type": "code",
   "execution_count": 117,
   "metadata": {
    "scrolled": true
   },
   "outputs": [
    {
     "data": {
      "text/plain": [
       "89230"
      ]
     },
     "execution_count": 117,
     "metadata": {},
     "output_type": "execute_result"
    }
   ],
   "source": [
    "df.count()"
   ]
  },
  {
   "cell_type": "code",
   "execution_count": 118,
   "metadata": {},
   "outputs": [
    {
     "name": "stdout",
     "output_type": "stream",
     "text": [
      "+-------------+--------+---------+----+------------+----------+----------+-----------------+--------------------+----------------+-------------------+-------------------+---------------+---------------+---------------+----------+----------+-----------------+--------------------+----------------+-------------------+-------------------+---------------+---------------+---------------+-----------+---------+-------------+-------------+---------+--------------+-----------+----------+-----------+-----------------+--------------+--------------------+---------------------+------------------+------------------+-------------+--------------+-------------------+--------------+--------------------+---------------------+------------------+------------------+-------------+--------------+-------------------+--------------+--------------------+---------------------+------------------+------------------+-------------+--------------+-------------------+--------------+--------------------+\n",
      "|GLOBALEVENTID| SQLDATE|MonthYear|Year|FractionDate|Actor1Code|Actor1Name|Actor1CountryCode|Actor1KnownGroupCode|Actor1EthnicCode|Actor1Religion1Code|Actor1Religion2Code|Actor1Type1Code|Actor1Type2Code|Actor1Type3Code|Actor2Code|Actor2Name|Actor2CountryCode|Actor2KnownGroupCode|Actor2EthnicCode|Actor2Religion1Code|Actor2Religion2Code|Actor2Type1Code|Actor2Type2Code|Actor2Type3Code|IsRootEvent|EventCode|EventBaseCode|EventRootCode|QuadClass|GoldsteinScale|NumMentions|NumSources|NumArticles|          AvgTone|Actor1Geo_Type|  Actor1Geo_FullName|Actor1Geo_CountryCode|Actor1Geo_ADM1Code|Actor1Geo_ADM2Code|Actor1Geo_Lat|Actor1Geo_Long|Actor1Geo_FeatureID|Actor2Geo_Type|  Actor2Geo_FullName|Actor2Geo_CountryCode|Actor2Geo_ADM1Code|Actor2Geo_ADM2Code|Actor2Geo_Lat|Actor2Geo_Long|Actor2Geo_FeatureID|ActionGeo_Type|  ActionGeo_FullName|ActionGeo_CountryCode|ActionGeo_ADM1Code|ActionGeo_ADM2Code|ActionGeo_Lat|ActionGeo_Long|ActionGeo_FeatureID|     DATEADDED|           SOURCEURL|\n",
      "+-------------+--------+---------+----+------------+----------+----------+-----------------+--------------------+----------------+-------------------+-------------------+---------------+---------------+---------------+----------+----------+-----------------+--------------------+----------------+-------------------+-------------------+---------------+---------------+---------------+-----------+---------+-------------+-------------+---------+--------------+-----------+----------+-----------+-----------------+--------------+--------------------+---------------------+------------------+------------------+-------------+--------------+-------------------+--------------+--------------------+---------------------+------------------+------------------+-------------+--------------+-------------------+--------------+--------------------+---------------------+------------------+------------------+-------------+--------------+-------------------+--------------+--------------------+\n",
      "|    719024869|20170101|   201701|2017|   2017.0027|       AGR|    FARMER|             null|                null|            null|               null|               null|            AGR|           null|           null|       CAN|    CANADA|              CAN|                null|            null|               null|               null|           null|           null|           null|          1|      061|          061|           06|        2|           6.4|          6|         3|          6|-2.67786272298116|             2|Minnesota, United...|                   US|              USMN|              null|      45.7326|      -93.9196|                 MN|             1|              Mexico|                   MX|                MX|              null|           23|          -102|                 MX|             2|Minnesota, United...|                   US|              USMN|              null|      45.7326|      -93.9196|                 MN|20180101000000|http://www.kansas...|\n",
      "|    719024870|20170101|   201701|2017|   2017.0027|       AGR|    FARMER|             null|                null|            null|               null|               null|            AGR|           null|           null|       CAN|    CANADA|              CAN|                null|            null|               null|               null|           null|           null|           null|          1|      061|          061|           06|        2|           6.4|         18|         3|         18|-2.67786272298116|             1|              Mexico|                   MX|                MX|              null|           23|          -102|                 MX|             1|              Canada|                   CA|                CA|              null|           60|           -96|                 CA|             1|              Mexico|                   MX|                MX|              null|           23|          -102|                 MX|20180101000000|http://www.kansas...|\n",
      "|    719024871|20170101|   201701|2017|   2017.0027|       AGR|    FARMER|             null|                null|            null|               null|               null|            AGR|           null|           null|       CAN|    CANADA|              CAN|                null|            null|               null|               null|           null|           null|           null|          1|      061|          061|           06|        2|           6.4|          6|         3|          6|-2.67786272298116|             1|              Mexico|                   MX|                MX|              null|           23|          -102|                 MX|             1|              Mexico|                   MX|                MX|              null|           23|          -102|                 MX|             1|              Mexico|                   MX|                MX|              null|           23|          -102|                 MX|20180101000000|http://www.kansas...|\n",
      "|    719024872|20170101|   201701|2017|   2017.0027|       AGR|    FARMER|             null|                null|            null|               null|               null|            AGR|           null|           null|       MEX|    MEXICO|              MEX|                null|            null|               null|               null|           null|           null|           null|          1|      061|          061|           06|        2|           6.4|          6|         3|          6|-2.67786272298116|             2|Minnesota, United...|                   US|              USMN|              null|      45.7326|      -93.9196|                 MN|             2|Minnesota, United...|                   US|              USMN|              null|      45.7326|      -93.9196|                 MN|             2|Minnesota, United...|                   US|              USMN|              null|      45.7326|      -93.9196|                 MN|20180101000000|http://www.kansas...|\n",
      "|    719024873|20170101|   201701|2017|   2017.0027|       AGR|    FARMER|             null|                null|            null|               null|               null|            AGR|           null|           null|       MEX|    MEXICO|              MEX|                null|            null|               null|               null|           null|           null|           null|          1|      061|          061|           06|        2|           6.4|         24|         3|         24|-2.67786272298116|             1|              Mexico|                   MX|                MX|              null|           23|          -102|                 MX|             1|              Mexico|                   MX|                MX|              null|           23|          -102|                 MX|             1|              Mexico|                   MX|                MX|              null|           23|          -102|                 MX|20180101000000|http://www.kansas...|\n",
      "+-------------+--------+---------+----+------------+----------+----------+-----------------+--------------------+----------------+-------------------+-------------------+---------------+---------------+---------------+----------+----------+-----------------+--------------------+----------------+-------------------+-------------------+---------------+---------------+---------------+-----------+---------+-------------+-------------+---------+--------------+-----------+----------+-----------+-----------------+--------------+--------------------+---------------------+------------------+------------------+-------------+--------------+-------------------+--------------+--------------------+---------------------+------------------+------------------+-------------+--------------+-------------------+--------------+--------------------+---------------------+------------------+------------------+-------------+--------------+-------------------+--------------+--------------------+\n",
      "only showing top 5 rows\n",
      "\n"
     ]
    }
   ],
   "source": [
    "df.show(5)"
   ]
  }
 ],
 "metadata": {
  "kernelspec": {
   "display_name": "Python 3",
   "language": "python",
   "name": "python3"
  },
  "language_info": {
   "codemirror_mode": {
    "name": "ipython",
    "version": 3
   },
   "file_extension": ".py",
   "mimetype": "text/x-python",
   "name": "python",
   "nbconvert_exporter": "python",
   "pygments_lexer": "ipython3",
   "version": "3.6.8"
  }
 },
 "nbformat": 4,
 "nbformat_minor": 2
}
