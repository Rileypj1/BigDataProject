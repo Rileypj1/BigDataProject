{
 "cells": [
  {
   "cell_type": "markdown",
   "metadata": {},
   "source": [
    "# Init"
   ]
  },
  {
   "cell_type": "code",
   "execution_count": 1,
   "metadata": {},
   "outputs": [],
   "source": [
    "import findspark\n",
    "findspark.init()\n",
    "\n",
    "from pyspark.sql import SparkSession\n",
    "spark = SparkSession.builder \\\n",
    "     .appName(\"Test\") \\\n",
    "     .getOrCreate()"
   ]
  },
  {
   "cell_type": "code",
   "execution_count": 2,
   "metadata": {},
   "outputs": [],
   "source": [
    "import pandas as pd\n",
    "pd.options.display.max_rows=250\n",
    "import numpy as np\n",
    "from datetime import datetime\n",
    "\n",
    "import matplotlib.pyplot as plt\n",
    "plt.style.use('seaborn')\n",
    "import matplotlib.ticker as ticker\n",
    "from matplotlib.ticker import FormatStrFormatter, FuncFormatter\n",
    "\n",
    "import pyspark.sql.functions as func"
   ]
  },
  {
   "cell_type": "markdown",
   "metadata": {},
   "source": [
    "# Dataset Imports"
   ]
  },
  {
   "cell_type": "code",
   "execution_count": 3,
   "metadata": {},
   "outputs": [
    {
     "name": "stdout",
     "output_type": "stream",
     "text": [
      "221817927\n",
      "root\n",
      " |-- EventDate: string (nullable = true)\n",
      " |-- MentionSource: string (nullable = true)\n",
      " |-- MentionIdentifier: string (nullable = true)\n",
      " |-- MentionDocTone: float (nullable = true)\n",
      " |-- Month: string (nullable = true)\n",
      " |-- Year: string (nullable = true)\n",
      "\n",
      "None\n",
      "0:02:01.110543\n"
     ]
    }
   ],
   "source": [
    "start = datetime.now()\n",
    "\n",
    "df_mentions = spark.read.parquet(\"s3://labadie-gdelt-tradewar/filtered_mentions.parquet\")\n",
    "df_mentions.cache()\n",
    "\n",
    "print(df_mentions.count())\n",
    "print(df_mentions.printSchema())\n",
    "print(datetime.now()-start)"
   ]
  },
  {
   "cell_type": "markdown",
   "metadata": {},
   "source": [
    "# Model"
   ]
  },
  {
   "cell_type": "markdown",
   "metadata": {},
   "source": [
    "### Create Features"
   ]
  },
  {
   "cell_type": "code",
   "execution_count": 39,
   "metadata": {},
   "outputs": [],
   "source": [
    "df_all=df_mentions.groupby(\"MentionSource\").agg(func.mean(\"MentionDocTone\").alias(\"tone(all)\"),\n",
    "                                                  func.count(\"MentionDocTone\").alias(\"count(all)\"))\n",
    "\n",
    "df_trump=df_mentions.where(df_mentions.MentionIdentifier.rlike('trump')). \\\n",
    "    groupby(\"MentionSource\").agg(func.mean(\"MentionDocTone\").alias(\"tone(trump)\"),\n",
    "                                 func.count(\"MentionDocTone\").alias(\"count(trump)\"))\n",
    "\n",
    "df_obama=df_mentions.where(df_mentions.MentionIdentifier.rlike('obama')). \\\n",
    "    groupby(\"MentionSource\").agg(func.mean(\"MentionDocTone\").alias(\"tone(obama)\"),\n",
    "                                 func.count(\"MentionDocTone\").alias(\"count(obama)\"))\n",
    "\n",
    "df_clinton=df_mentions.where(df_mentions.MentionIdentifier.rlike('clinton')). \\\n",
    "    groupby(\"MentionSource\").agg(func.mean(\"MentionDocTone\").alias(\"tone(clinton)\"),\n",
    "                                 func.count(\"MentionDocTone\").alias(\"count(clinton)\"))\n",
    "\n",
    "df_charlottesville=df_mentions.where(df_mentions.MentionIdentifier.rlike('charlottesville')). \\\n",
    "    groupby(\"MentionSource\").agg(func.mean(\"MentionDocTone\").alias(\"tone(charlottesville)\"),\n",
    "                                 func.count(\"MentionDocTone\").alias(\"count(charlottesville)\"))\n",
    "\n",
    "df_climate=df_mentions.where(df_mentions.MentionIdentifier.rlike('climate*change')). \\\n",
    "    groupby(\"MentionSource\").agg(func.mean(\"MentionDocTone\").alias(\"tone(climatechange)\"),\n",
    "                                 func.count(\"MentionDocTone\").alias(\"count(climatechange)\"))\n",
    "\n",
    "df_anthem=df_mentions.where(df_mentions.MentionIdentifier.rlike('anthem')). \\\n",
    "    groupby(\"MentionSource\").agg(func.mean(\"MentionDocTone\").alias(\"tone(anthem)\"),\n",
    "                                 func.count(\"MentionDocTone\").alias(\"count(anthem)\"))\n",
    "\n",
    "df_inauguration=df_mentions.where(df_mentions.MentionIdentifier.rlike('inauguration')). \\\n",
    "    groupby(\"MentionSource\").agg(func.mean(\"MentionDocTone\").alias(\"tone(inauguration)\"),\n",
    "                                 func.count(\"MentionDocTone\").alias(\"count(inauguration)\"))\n"
   ]
  },
  {
   "cell_type": "code",
   "execution_count": 49,
   "metadata": {},
   "outputs": [
    {
     "data": {
      "text/plain": [
       "5726"
      ]
     },
     "execution_count": 49,
     "metadata": {},
     "output_type": "execute_result"
    }
   ],
   "source": [
    "df=df_all.join(df_trump,[\"MentionSource\"],how=\"left\") \\\n",
    "        .join(df_obama,[\"MentionSource\"],how=\"left\") \\\n",
    "        .join(df_clinton,[\"MentionSource\"],how=\"left\") \\\n",
    "        .join(df_charlottesville,[\"MentionSource\"],how=\"left\") \\\n",
    "        .join(df_climate,[\"MentionSource\"],how=\"left\") \\\n",
    "        .join(df_anthem,[\"MentionSource\"],how=\"left\") \\\n",
    "        .join(df_inauguration,[\"MentionSource\"],how=\"left\") \\\n",
    "\n",
    "df.cache()\n",
    "df.count()"
   ]
  },
  {
   "cell_type": "code",
   "execution_count": 50,
   "metadata": {},
   "outputs": [
    {
     "name": "stdout",
     "output_type": "stream",
     "text": [
      "+--------------------+-------------------+----------+-------------------+------------+-------------------+------------+--------------------+--------------+---------------------+----------------------+-------------------+--------------------+------------+-------------+--------------------+-------------------+\n",
      "|       MentionSource|          tone(all)|count(all)|        tone(trump)|count(trump)|        tone(obama)|count(obama)|       tone(clinton)|count(clinton)|tone(charlottesville)|count(charlottesville)|tone(climatechange)|count(climatechange)|tone(anthem)|count(anthem)|  tone(inauguration)|count(inauguration)|\n",
      "+--------------------+-------------------+----------+-------------------+------------+-------------------+------------+--------------------+--------------+---------------------+----------------------+-------------------+--------------------+------------+-------------+--------------------+-------------------+\n",
      "|        1380kcim.com| -1.192166224234342|      4379|-0.7535074907152549|          46|-2.6517748832702637|          11|  1.1892819682757059|            15|                 null|                  null|               null|                null|        null|         null|  3.4482758045196533|                  1|\n",
      "|           aol.co.uk| -2.137333096563159|     79415|-2.4422416579556594|        1662|-1.0502628656418136|         178| -1.8868439345448105|           135|  -12.830086708068848|                     5|               null|                null|        null|         null|  1.7427173682621546|                  7|\n",
      "|     apparelnews.net| 1.4914346019465063|      1826| -1.480077670680152|           9|               null|        null|                null|          null|                 null|                  null|               null|                null|        null|         null|                null|               null|\n",
      "|     basicincome.org| 0.3954920199154203|      1709| 0.7610235452651978|           5|-0.5681792606006969|          11|  0.7436122000217438|             4|                 null|                  null|               null|                null|        null|         null|                null|               null|\n",
      "|  bedfordtoday.co.uk|-0.9369925973526952|      3921|-1.9599540531635284|           4|               null|        null| -2.3255813121795654|             3|                 null|                  null|               null|                null|        null|         null|                null|               null|\n",
      "|              bt.com|-3.4369324742782617|     52728|-2.4014773628733415|        1153| -2.710632549809033|         381| -1.6389961735833258|           126|                 null|                  null|               null|                null|        null|         null|   7.314815044403076|                  3|\n",
      "|  businessinsider.in|-1.8217108022086836|    142018|  -2.98557620548365|        7506| -2.055946313416247|         352|  -2.952608492316269|           123|   -7.582864443461101|                    15|               null|                null|        null|         null|  -1.648868495952492|                121|\n",
      "|     delmarvanow.com|  -2.58345567678123|     25977| -2.019513883498601|        1728|-1.8981454853081967|         361|  -1.202129667075278|           383|    -5.41143410887037|                    70|               null|                null|        null|         null|-0.05446917812029...|                 24|\n",
      "|      dodgeglobe.com|-3.0268359132886107|     15583| -2.695127310899983|        3691|-1.8995934895625928|          82| -1.6771195589431696|            56|  -5.9359158002413235|                    13|               null|                null|        null|         null| -0.8060081601142883|                  4|\n",
      "|     echo-news.co.uk| -2.802727949010001|     77186| -2.822854109591294|        1111| -2.913248763481776|          30| -2.4147734062091724|            37|                 null|                  null|               null|                null|        null|         null|  0.9577127148707708|                 12|\n",
      "|    funds-europe.com| 0.5517994711720879|      2958|-1.4463466604550679|           9|               null|        null|                null|          null|                 null|                  null|               null|                null|        null|         null|                null|               null|\n",
      "|      jihadology.net| -3.030827725245509|       860| -4.774982282093593|          14|               null|        null|                null|          null|                 null|                  null|               null|                null|        null|         null|-0.40837162733078003|                  2|\n",
      "|  jonathanturley.org| -4.341160838592647|     11814|  -4.05497298998257|        2282|-2.8497752812173633|         171| -3.8291738106555755|           419|   -9.198756899152484|                    14|               null|                null|        null|         null| -2.4193549156188965|                 17|\n",
      "|            kpvi.com|-3.2168686005758254|     82655|-1.8516997750465272|        4374|-1.1811629625005742|         590| -0.7950680858274508|           576|    -4.65582113618582|                    71|               null|                null|        null|         null| -0.6104944745699564|                 45|\n",
      "|    lacombeglobe.com|-2.9850940415010325|      3589|-2.9075462087279274|          63| -8.324662208557129|           9|-0.06050529082616...|             6|                 null|                  null|               null|                null|        null|         null|                null|               null|\n",
      "|           nugget.ca|-2.7378205150478783|     16820| -2.425741924887948|         228|-1.8641344491731038|          22| -3.4506398843867436|            28|                 null|                  null|               null|                null|        null|         null|                null|               null|\n",
      "|         officer.com| -4.747413663129568|     23452|-3.5115506382193415|         320| -3.713216713496617|         126|  -4.429428057585444|            35|   -7.147985610697004|                    18|               null|                null|        null|         null|  0.8319467306137085|                  1|\n",
      "|    petoskeynews.com| -2.259495142443846|     23370|-2.6853280224419365|        3527|-2.4010154309791405|         462| -2.7599682997246293|           207|   -9.095699906349182|                    16|               null|                null|        null|         null|  -3.726708173751831|                  6|\n",
      "|    royalgazette.com|-0.9543208451371383|     27014|-2.6455963833747056|         293|-1.5593386405649095|          52| -1.7443353180532102|            54|                 null|                  null|               null|                null|        null|         null|                null|               null|\n",
      "|southjerseylocaln...|0.10115559696097193|      5231| -1.477261394586252|          46|   3.23624587059021|           2|                null|          null|                 null|                  null|               null|                null|        null|         null|                null|               null|\n",
      "+--------------------+-------------------+----------+-------------------+------------+-------------------+------------+--------------------+--------------+---------------------+----------------------+-------------------+--------------------+------------+-------------+--------------------+-------------------+\n",
      "only showing top 20 rows\n",
      "\n"
     ]
    }
   ],
   "source": [
    "df.show()"
   ]
  },
  {
   "cell_type": "markdown",
   "metadata": {},
   "source": [
    "### K-means Model"
   ]
  },
  {
   "cell_type": "code",
   "execution_count": null,
   "metadata": {},
   "outputs": [],
   "source": []
  }
 ],
 "metadata": {
  "kernelspec": {
   "display_name": "Python 3",
   "language": "python",
   "name": "python3"
  },
  "language_info": {
   "codemirror_mode": {
    "name": "ipython",
    "version": 3
   },
   "file_extension": ".py",
   "mimetype": "text/x-python",
   "name": "python",
   "nbconvert_exporter": "python",
   "pygments_lexer": "ipython3",
   "version": "3.6.8"
  }
 },
 "nbformat": 4,
 "nbformat_minor": 2
}
