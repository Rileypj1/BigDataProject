{
 "cells": [
  {
   "cell_type": "markdown",
   "metadata": {},
   "source": [
    "# Init"
   ]
  },
  {
   "cell_type": "code",
   "execution_count": 4,
   "metadata": {},
   "outputs": [],
   "source": [
    "import findspark\n",
    "findspark.init()\n",
    "\n",
    "from pyspark.sql import SparkSession\n",
    "spark = SparkSession.builder \\\n",
    "     .appName(\"Test\") \\\n",
    "     .getOrCreate()"
   ]
  },
  {
   "cell_type": "code",
   "execution_count": 5,
   "metadata": {},
   "outputs": [],
   "source": [
    "import pandas as pd\n",
    "pd.options.display.max_rows=250\n",
    "import numpy as np\n",
    "from datetime import datetime\n",
    "\n",
    "import matplotlib.pyplot as plt\n",
    "plt.style.use('seaborn')\n",
    "import matplotlib.ticker as ticker\n",
    "from matplotlib.ticker import FormatStrFormatter, FuncFormatter\n",
    "\n",
    "import pyspark.sql.functions as func"
   ]
  },
  {
   "cell_type": "markdown",
   "metadata": {},
   "source": [
    "# Dataset Imports"
   ]
  },
  {
   "cell_type": "code",
   "execution_count": 6,
   "metadata": {},
   "outputs": [
    {
     "name": "stdout",
     "output_type": "stream",
     "text": [
      "329962831\n",
      "root\n",
      " |-- EventDate: string (nullable = true)\n",
      " |-- MentionSource: string (nullable = true)\n",
      " |-- MentionIdentifier: string (nullable = true)\n",
      " |-- MentionDocTone: string (nullable = true)\n",
      "\n",
      "None\n",
      "0:02:20.214583\n"
     ]
    }
   ],
   "source": [
    "start = datetime.now()\n",
    "\n",
    "df_mentions = spark.read.parquet(\"s3://labadie-gdelt-tradewar/mentions.parquet\")\n",
    "df_mentions.cache()\n",
    "\n",
    "print(df_mentions.count())\n",
    "print(df_mentions.printSchema())\n",
    "print(datetime.now()-start)"
   ]
  },
  {
   "cell_type": "markdown",
   "metadata": {},
   "source": [
    "# Model"
   ]
  },
  {
   "cell_type": "markdown",
   "metadata": {},
   "source": [
    "### Create Features"
   ]
  },
  {
   "cell_type": "code",
   "execution_count": 26,
   "metadata": {},
   "outputs": [
    {
     "name": "stdout",
     "output_type": "stream",
     "text": [
      "110284\n",
      "\n",
      "+--------------------+-------+\n",
      "|       MentionSource|  count|\n",
      "+--------------------+-------+\n",
      "|          iheart.com|5415499|\n",
      "|           yahoo.com|3544136|\n",
      "|         reuters.com|2101841|\n",
      "|              ap.org|1872987|\n",
      "|     dailymail.co.uk|1735160|\n",
      "|business-standard...|1604209|\n",
      "|      indiatimes.com|1470522|\n",
      "|     english.wafa.ps|1363294|\n",
      "|          sfgate.com|1117552|\n",
      "|             msn.com|1083702|\n",
      "|  washingtonpost.com|1012533|\n",
      "|           chron.com| 923878|\n",
      "|        philstar.com| 899644|\n",
      "|       4-traders.com| 899315|\n",
      "|       allafrica.com| 656913|\n",
      "|          tucson.com| 648131|\n",
      "|  couriermail.com.au| 640124|\n",
      "|     wickedlocal.com| 594929|\n",
      "|         foxnews.com| 589656|\n",
      "|    heraldsun.com.au| 581688|\n",
      "+--------------------+-------+\n",
      "only showing top 20 rows\n",
      "\n",
      "None\n",
      "\n",
      "0:00:14.265990\n"
     ]
    }
   ],
   "source": [
    "start = datetime.now()\n",
    "\n",
    "print(df_mentions.select([\"MentionSource\"]).distinct().count())\n",
    "print()\n",
    "print(df_mentions.groupby(\"MentionSource\").count().orderBy(\"count\", ascending=False).show())\n",
    "print()\n",
    "\n",
    "print(datetime.now()-start)"
   ]
  }
 ],
 "metadata": {
  "kernelspec": {
   "display_name": "Python 3",
   "language": "python",
   "name": "python3"
  },
  "language_info": {
   "codemirror_mode": {
    "name": "ipython",
    "version": 3
   },
   "file_extension": ".py",
   "mimetype": "text/x-python",
   "name": "python",
   "nbconvert_exporter": "python",
   "pygments_lexer": "ipython3",
   "version": "3.6.8"
  }
 },
 "nbformat": 4,
 "nbformat_minor": 2
}
